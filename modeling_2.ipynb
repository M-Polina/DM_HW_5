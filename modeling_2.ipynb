{
 "cells": [
  {
   "cell_type": "code",
   "execution_count": 12,
   "id": "b06bccd4",
   "metadata": {},
   "outputs": [],
   "source": [
    "%matplotlib notebook\n",
    "import numpy as np\n",
    "import matplotlib.pyplot as plt\n",
    "from math import sqrt"
   ]
  },
  {
   "cell_type": "code",
   "execution_count": null,
   "id": "ea414ac1",
   "metadata": {},
   "outputs": [
    {
     "name": "stdout",
     "output_type": "stream",
     "text": [
      "Введите напряжение на конденсаторе U (В):\n"
     ]
    }
   ],
   "source": [
    "global U, d, v, m, q, g, t_arr, x_arr, y_arr, k\n",
    "g = 9.81\n",
    "print(\"Введите напряжение на конденсаторе U (В):\")\n",
    "try:\n",
    "    U = abs(float(input()))\n",
    "except ValueError:\n",
    "    U = 200\n",
    "print(\"Введите расстояние между пластинами конденсатора d (м):\")\n",
    "try:\n",
    "    d = abs(float(input()))\n",
    "except ValueError:\n",
    "    d = 0.001\n",
    "print(\"Введите скорость частицы v (м/с^2):\")\n",
    "try:\n",
    "    v = abs(float(input()))\n",
    "except ValueError:\n",
    "    v = 1\n",
    "print(\"Введите массу частицы m (кг):\")\n",
    "try:\n",
    "    m = abs(float(input()))\n",
    "except ValueError:\n",
    "    m = 0.001\n",
    "print(\"Введите заряд частицы q (Кл) (может быть и положительным и отрицательным):\")\n",
    "try:\n",
    "    q = float(input())\n",
    "except ValueError:\n",
    "    q = 1\n",
    "if (q > 0):\n",
    "    k = 1\n",
    "else:\n",
    "    k = -1"
   ]
  },
  {
   "cell_type": "code",
   "execution_count": null,
   "id": "7314c6da",
   "metadata": {},
   "outputs": [],
   "source": [
    "fig, ax = plt.subplots(1, 1)\n",
    "a = -g + k * q * U / d / m\n",
    "x = sqrt(abs(v * v * d / a))\n",
    "t_arr = np.arange(0, x + x / 101, x / 100)\n",
    "x_arr = []\n",
    "y_arr = []\n",
    "\n",
    "for i in range(0, len(t_arr)):\n",
    "    x_arr.append(v * t_arr[i])\n",
    "    y_arr.append(a * t_arr[i] * t_arr[i] / 2)\n",
    "\n",
    "ax.plot(x_arr, y_arr, c='m', linewidth=2)\n",
    "\n",
    "ax.plot([0, x], [-d / 2, -d / 2], c='0', linewidth=3)\n",
    "ax.plot([0, x], [d / 2, d / 2], c='0', linewidth=3)\n",
    "line = np.arange(0, x + x / 11, x / 10)\n",
    "ax.plot(line, [-d/1.9  for i in line],  'b+')\n",
    "ax.plot(line, [d/1.9  for i in line],  'b_')\n",
    "ax.set_ylabel('y, м')\n",
    "ax.set_xlabel('x, м')\n",
    "ax.minorticks_on()\n",
    "ax.grid(True, which='both')\n",
    "ax.grid(which='minor',\n",
    "        color='gray',\n",
    "        linestyle=':')\n",
    "\n",
    "ax.minorticks_on()\n",
    "\n",
    "plt.show()\n"
   ]
  }
 ],
 "metadata": {
  "kernelspec": {
   "display_name": "Python 3 (ipykernel)",
   "language": "python",
   "name": "python3"
  },
  "language_info": {
   "codemirror_mode": {
    "name": "ipython",
    "version": 3
   },
   "file_extension": ".py",
   "mimetype": "text/x-python",
   "name": "python",
   "nbconvert_exporter": "python",
   "pygments_lexer": "ipython3",
   "version": "3.9.6"
  }
 },
 "nbformat": 4,
 "nbformat_minor": 5
}
